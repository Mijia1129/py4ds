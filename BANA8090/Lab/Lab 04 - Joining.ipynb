{
 "cells": [
  {
   "cell_type": "markdown",
   "metadata": {},
   "source": [
    "# Lab 04: Joining"
   ]
  },
  {
   "cell_type": "markdown",
   "metadata": {},
   "source": [
    "## #1\n",
    "You should have already downloaded the [planes data](https://raw.githubusercontent.com/uc-python/intro-python-datasci/master/data/planes.csv).\n",
    "Now download a related dataset – [flights data](https://raw.githubusercontent.com/uc-python/intro-python-datasci/master/data/flights.csv).\n",
    "\n",
    "Note that this is a fairly large dataset and may take a few seconds to download."
   ]
  },
  {
   "cell_type": "markdown",
   "metadata": {},
   "source": [
    "## #2\n",
    "Load in the planes data as `planes` and the flights data as `flights`."
   ]
  },
  {
   "cell_type": "code",
   "execution_count": 1,
   "metadata": {},
   "outputs": [],
   "source": [
    "import pandas as pd"
   ]
  },
  {
   "cell_type": "code",
   "execution_count": 2,
   "metadata": {},
   "outputs": [],
   "source": [
    "planes = pd.read_csv('../data/planes.csv')\n",
    "flights = pd.read_csv('../data/flights.csv')"
   ]
  },
  {
   "cell_type": "markdown",
   "metadata": {},
   "source": [
    "## #3\n",
    "Based on what you see in the flights dataset, form a hypothesis about what this dataset is.\n",
    "Do you see a column in this data that could match up with a column in the planes data?"
   ]
  },
  {
   "cell_type": "code",
   "execution_count": 3,
   "metadata": {},
   "outputs": [
    {
     "data": {
      "text/html": [
       "<div>\n",
       "<style scoped>\n",
       "    .dataframe tbody tr th:only-of-type {\n",
       "        vertical-align: middle;\n",
       "    }\n",
       "\n",
       "    .dataframe tbody tr th {\n",
       "        vertical-align: top;\n",
       "    }\n",
       "\n",
       "    .dataframe thead th {\n",
       "        text-align: right;\n",
       "    }\n",
       "</style>\n",
       "<table border=\"1\" class=\"dataframe\">\n",
       "  <thead>\n",
       "    <tr style=\"text-align: right;\">\n",
       "      <th></th>\n",
       "      <th>year</th>\n",
       "      <th>month</th>\n",
       "      <th>day</th>\n",
       "      <th>dep_time</th>\n",
       "      <th>sched_dep_time</th>\n",
       "      <th>dep_delay</th>\n",
       "      <th>arr_time</th>\n",
       "      <th>sched_arr_time</th>\n",
       "      <th>arr_delay</th>\n",
       "      <th>carrier</th>\n",
       "      <th>flight</th>\n",
       "      <th>tailnum</th>\n",
       "      <th>origin</th>\n",
       "      <th>dest</th>\n",
       "      <th>air_time</th>\n",
       "      <th>distance</th>\n",
       "      <th>hour</th>\n",
       "      <th>minute</th>\n",
       "      <th>time_hour</th>\n",
       "    </tr>\n",
       "  </thead>\n",
       "  <tbody>\n",
       "    <tr>\n",
       "      <th>0</th>\n",
       "      <td>2013</td>\n",
       "      <td>1</td>\n",
       "      <td>1</td>\n",
       "      <td>517.0</td>\n",
       "      <td>515</td>\n",
       "      <td>2.0</td>\n",
       "      <td>830.0</td>\n",
       "      <td>819</td>\n",
       "      <td>11.0</td>\n",
       "      <td>UA</td>\n",
       "      <td>1545</td>\n",
       "      <td>N14228</td>\n",
       "      <td>EWR</td>\n",
       "      <td>IAH</td>\n",
       "      <td>227.0</td>\n",
       "      <td>1400</td>\n",
       "      <td>5</td>\n",
       "      <td>15</td>\n",
       "      <td>2013-01-01 05:00:00</td>\n",
       "    </tr>\n",
       "    <tr>\n",
       "      <th>1</th>\n",
       "      <td>2013</td>\n",
       "      <td>1</td>\n",
       "      <td>1</td>\n",
       "      <td>533.0</td>\n",
       "      <td>529</td>\n",
       "      <td>4.0</td>\n",
       "      <td>850.0</td>\n",
       "      <td>830</td>\n",
       "      <td>20.0</td>\n",
       "      <td>UA</td>\n",
       "      <td>1714</td>\n",
       "      <td>N24211</td>\n",
       "      <td>LGA</td>\n",
       "      <td>IAH</td>\n",
       "      <td>227.0</td>\n",
       "      <td>1416</td>\n",
       "      <td>5</td>\n",
       "      <td>29</td>\n",
       "      <td>2013-01-01 05:00:00</td>\n",
       "    </tr>\n",
       "    <tr>\n",
       "      <th>2</th>\n",
       "      <td>2013</td>\n",
       "      <td>1</td>\n",
       "      <td>1</td>\n",
       "      <td>542.0</td>\n",
       "      <td>540</td>\n",
       "      <td>2.0</td>\n",
       "      <td>923.0</td>\n",
       "      <td>850</td>\n",
       "      <td>33.0</td>\n",
       "      <td>AA</td>\n",
       "      <td>1141</td>\n",
       "      <td>N619AA</td>\n",
       "      <td>JFK</td>\n",
       "      <td>MIA</td>\n",
       "      <td>160.0</td>\n",
       "      <td>1089</td>\n",
       "      <td>5</td>\n",
       "      <td>40</td>\n",
       "      <td>2013-01-01 05:00:00</td>\n",
       "    </tr>\n",
       "    <tr>\n",
       "      <th>3</th>\n",
       "      <td>2013</td>\n",
       "      <td>1</td>\n",
       "      <td>1</td>\n",
       "      <td>544.0</td>\n",
       "      <td>545</td>\n",
       "      <td>-1.0</td>\n",
       "      <td>1004.0</td>\n",
       "      <td>1022</td>\n",
       "      <td>-18.0</td>\n",
       "      <td>B6</td>\n",
       "      <td>725</td>\n",
       "      <td>N804JB</td>\n",
       "      <td>JFK</td>\n",
       "      <td>BQN</td>\n",
       "      <td>183.0</td>\n",
       "      <td>1576</td>\n",
       "      <td>5</td>\n",
       "      <td>45</td>\n",
       "      <td>2013-01-01 05:00:00</td>\n",
       "    </tr>\n",
       "    <tr>\n",
       "      <th>4</th>\n",
       "      <td>2013</td>\n",
       "      <td>1</td>\n",
       "      <td>1</td>\n",
       "      <td>554.0</td>\n",
       "      <td>600</td>\n",
       "      <td>-6.0</td>\n",
       "      <td>812.0</td>\n",
       "      <td>837</td>\n",
       "      <td>-25.0</td>\n",
       "      <td>DL</td>\n",
       "      <td>461</td>\n",
       "      <td>N668DN</td>\n",
       "      <td>LGA</td>\n",
       "      <td>ATL</td>\n",
       "      <td>116.0</td>\n",
       "      <td>762</td>\n",
       "      <td>6</td>\n",
       "      <td>0</td>\n",
       "      <td>2013-01-01 06:00:00</td>\n",
       "    </tr>\n",
       "  </tbody>\n",
       "</table>\n",
       "</div>"
      ],
      "text/plain": [
       "   year  month  day  dep_time  sched_dep_time  dep_delay  arr_time  \\\n",
       "0  2013      1    1     517.0             515        2.0     830.0   \n",
       "1  2013      1    1     533.0             529        4.0     850.0   \n",
       "2  2013      1    1     542.0             540        2.0     923.0   \n",
       "3  2013      1    1     544.0             545       -1.0    1004.0   \n",
       "4  2013      1    1     554.0             600       -6.0     812.0   \n",
       "\n",
       "   sched_arr_time  arr_delay carrier  flight tailnum origin dest  air_time  \\\n",
       "0             819       11.0      UA    1545  N14228    EWR  IAH     227.0   \n",
       "1             830       20.0      UA    1714  N24211    LGA  IAH     227.0   \n",
       "2             850       33.0      AA    1141  N619AA    JFK  MIA     160.0   \n",
       "3            1022      -18.0      B6     725  N804JB    JFK  BQN     183.0   \n",
       "4             837      -25.0      DL     461  N668DN    LGA  ATL     116.0   \n",
       "\n",
       "   distance  hour  minute            time_hour  \n",
       "0      1400     5      15  2013-01-01 05:00:00  \n",
       "1      1416     5      29  2013-01-01 05:00:00  \n",
       "2      1089     5      40  2013-01-01 05:00:00  \n",
       "3      1576     5      45  2013-01-01 05:00:00  \n",
       "4       762     6       0  2013-01-01 06:00:00  "
      ]
     },
     "execution_count": 3,
     "metadata": {},
     "output_type": "execute_result"
    }
   ],
   "source": [
    "flights.head()"
   ]
  },
  {
   "cell_type": "markdown",
   "metadata": {},
   "source": [
    "This is data on flights out of New York City.\n",
    "The `tailnum` column should look familiar, as our planes data also had tailnum, and there it was a unique identifier for a plane."
   ]
  },
  {
   "cell_type": "code",
   "execution_count": 4,
   "metadata": {},
   "outputs": [
    {
     "data": {
      "text/html": [
       "<div>\n",
       "<style scoped>\n",
       "    .dataframe tbody tr th:only-of-type {\n",
       "        vertical-align: middle;\n",
       "    }\n",
       "\n",
       "    .dataframe tbody tr th {\n",
       "        vertical-align: top;\n",
       "    }\n",
       "\n",
       "    .dataframe thead th {\n",
       "        text-align: right;\n",
       "    }\n",
       "</style>\n",
       "<table border=\"1\" class=\"dataframe\">\n",
       "  <thead>\n",
       "    <tr style=\"text-align: right;\">\n",
       "      <th></th>\n",
       "      <th>tailnum</th>\n",
       "      <th>year</th>\n",
       "      <th>type</th>\n",
       "      <th>manufacturer</th>\n",
       "      <th>model</th>\n",
       "      <th>engines</th>\n",
       "      <th>seats</th>\n",
       "      <th>speed</th>\n",
       "      <th>engine</th>\n",
       "    </tr>\n",
       "  </thead>\n",
       "  <tbody>\n",
       "    <tr>\n",
       "      <th>0</th>\n",
       "      <td>N10156</td>\n",
       "      <td>2004.0</td>\n",
       "      <td>Fixed wing multi engine</td>\n",
       "      <td>EMBRAER</td>\n",
       "      <td>EMB-145XR</td>\n",
       "      <td>2</td>\n",
       "      <td>55</td>\n",
       "      <td>NaN</td>\n",
       "      <td>Turbo-fan</td>\n",
       "    </tr>\n",
       "    <tr>\n",
       "      <th>1</th>\n",
       "      <td>N102UW</td>\n",
       "      <td>1998.0</td>\n",
       "      <td>Fixed wing multi engine</td>\n",
       "      <td>AIRBUS INDUSTRIE</td>\n",
       "      <td>A320-214</td>\n",
       "      <td>2</td>\n",
       "      <td>182</td>\n",
       "      <td>NaN</td>\n",
       "      <td>Turbo-fan</td>\n",
       "    </tr>\n",
       "    <tr>\n",
       "      <th>2</th>\n",
       "      <td>N103US</td>\n",
       "      <td>1999.0</td>\n",
       "      <td>Fixed wing multi engine</td>\n",
       "      <td>AIRBUS INDUSTRIE</td>\n",
       "      <td>A320-214</td>\n",
       "      <td>2</td>\n",
       "      <td>182</td>\n",
       "      <td>NaN</td>\n",
       "      <td>Turbo-fan</td>\n",
       "    </tr>\n",
       "    <tr>\n",
       "      <th>3</th>\n",
       "      <td>N104UW</td>\n",
       "      <td>1999.0</td>\n",
       "      <td>Fixed wing multi engine</td>\n",
       "      <td>AIRBUS INDUSTRIE</td>\n",
       "      <td>A320-214</td>\n",
       "      <td>2</td>\n",
       "      <td>182</td>\n",
       "      <td>NaN</td>\n",
       "      <td>Turbo-fan</td>\n",
       "    </tr>\n",
       "    <tr>\n",
       "      <th>4</th>\n",
       "      <td>N10575</td>\n",
       "      <td>2002.0</td>\n",
       "      <td>Fixed wing multi engine</td>\n",
       "      <td>EMBRAER</td>\n",
       "      <td>EMB-145LR</td>\n",
       "      <td>2</td>\n",
       "      <td>55</td>\n",
       "      <td>NaN</td>\n",
       "      <td>Turbo-fan</td>\n",
       "    </tr>\n",
       "  </tbody>\n",
       "</table>\n",
       "</div>"
      ],
      "text/plain": [
       "  tailnum    year                     type      manufacturer      model  \\\n",
       "0  N10156  2004.0  Fixed wing multi engine           EMBRAER  EMB-145XR   \n",
       "1  N102UW  1998.0  Fixed wing multi engine  AIRBUS INDUSTRIE   A320-214   \n",
       "2  N103US  1999.0  Fixed wing multi engine  AIRBUS INDUSTRIE   A320-214   \n",
       "3  N104UW  1999.0  Fixed wing multi engine  AIRBUS INDUSTRIE   A320-214   \n",
       "4  N10575  2002.0  Fixed wing multi engine           EMBRAER  EMB-145LR   \n",
       "\n",
       "   engines  seats  speed     engine  \n",
       "0        2     55    NaN  Turbo-fan  \n",
       "1        2    182    NaN  Turbo-fan  \n",
       "2        2    182    NaN  Turbo-fan  \n",
       "3        2    182    NaN  Turbo-fan  \n",
       "4        2     55    NaN  Turbo-fan  "
      ]
     },
     "execution_count": 4,
     "metadata": {},
     "output_type": "execute_result"
    }
   ],
   "source": [
    "planes.head()"
   ]
  },
  {
   "cell_type": "markdown",
   "metadata": {},
   "source": [
    "## #4\n",
    "Just using the flights data, is it possible to determine what percentage of the flights were completed on Boeing planes?\n",
    "Why not?"
   ]
  },
  {
   "cell_type": "markdown",
   "metadata": {},
   "source": [
    "The flights data doesn't contain information about the manufacturer of each plane -- for that, we need the planes dataset.\n",
    "So no, with flights alone, we can't answer this question."
   ]
  },
  {
   "cell_type": "markdown",
   "metadata": {},
   "source": [
    "## #5\n",
    "In order to combine this data with the planes data (where the manufacturer column is), we need to do a join.\n",
    "\n",
    "Inner join the planes data to the flights data, storing the result in a variable called `joined_data`."
   ]
  },
  {
   "cell_type": "code",
   "execution_count": 5,
   "metadata": {},
   "outputs": [
    {
     "data": {
      "text/html": [
       "<div>\n",
       "<style scoped>\n",
       "    .dataframe tbody tr th:only-of-type {\n",
       "        vertical-align: middle;\n",
       "    }\n",
       "\n",
       "    .dataframe tbody tr th {\n",
       "        vertical-align: top;\n",
       "    }\n",
       "\n",
       "    .dataframe thead th {\n",
       "        text-align: right;\n",
       "    }\n",
       "</style>\n",
       "<table border=\"1\" class=\"dataframe\">\n",
       "  <thead>\n",
       "    <tr style=\"text-align: right;\">\n",
       "      <th></th>\n",
       "      <th>tailnum</th>\n",
       "      <th>year_x</th>\n",
       "      <th>type</th>\n",
       "      <th>manufacturer</th>\n",
       "      <th>model</th>\n",
       "      <th>engines</th>\n",
       "      <th>seats</th>\n",
       "      <th>speed</th>\n",
       "      <th>engine</th>\n",
       "      <th>year_y</th>\n",
       "      <th>...</th>\n",
       "      <th>arr_delay</th>\n",
       "      <th>carrier</th>\n",
       "      <th>flight</th>\n",
       "      <th>origin</th>\n",
       "      <th>dest</th>\n",
       "      <th>air_time</th>\n",
       "      <th>distance</th>\n",
       "      <th>hour</th>\n",
       "      <th>minute</th>\n",
       "      <th>time_hour</th>\n",
       "    </tr>\n",
       "  </thead>\n",
       "  <tbody>\n",
       "    <tr>\n",
       "      <th>0</th>\n",
       "      <td>N10156</td>\n",
       "      <td>2004.0</td>\n",
       "      <td>Fixed wing multi engine</td>\n",
       "      <td>EMBRAER</td>\n",
       "      <td>EMB-145XR</td>\n",
       "      <td>2</td>\n",
       "      <td>55</td>\n",
       "      <td>NaN</td>\n",
       "      <td>Turbo-fan</td>\n",
       "      <td>2013</td>\n",
       "      <td>...</td>\n",
       "      <td>2.0</td>\n",
       "      <td>EV</td>\n",
       "      <td>4560</td>\n",
       "      <td>EWR</td>\n",
       "      <td>PIT</td>\n",
       "      <td>60.0</td>\n",
       "      <td>319</td>\n",
       "      <td>6</td>\n",
       "      <td>30</td>\n",
       "      <td>2013-01-10 06:00:00</td>\n",
       "    </tr>\n",
       "    <tr>\n",
       "      <th>1</th>\n",
       "      <td>N10156</td>\n",
       "      <td>2004.0</td>\n",
       "      <td>Fixed wing multi engine</td>\n",
       "      <td>EMBRAER</td>\n",
       "      <td>EMB-145XR</td>\n",
       "      <td>2</td>\n",
       "      <td>55</td>\n",
       "      <td>NaN</td>\n",
       "      <td>Turbo-fan</td>\n",
       "      <td>2013</td>\n",
       "      <td>...</td>\n",
       "      <td>40.0</td>\n",
       "      <td>EV</td>\n",
       "      <td>4269</td>\n",
       "      <td>EWR</td>\n",
       "      <td>CHS</td>\n",
       "      <td>99.0</td>\n",
       "      <td>628</td>\n",
       "      <td>10</td>\n",
       "      <td>32</td>\n",
       "      <td>2013-01-10 10:00:00</td>\n",
       "    </tr>\n",
       "    <tr>\n",
       "      <th>2</th>\n",
       "      <td>N10156</td>\n",
       "      <td>2004.0</td>\n",
       "      <td>Fixed wing multi engine</td>\n",
       "      <td>EMBRAER</td>\n",
       "      <td>EMB-145XR</td>\n",
       "      <td>2</td>\n",
       "      <td>55</td>\n",
       "      <td>NaN</td>\n",
       "      <td>Turbo-fan</td>\n",
       "      <td>2013</td>\n",
       "      <td>...</td>\n",
       "      <td>47.0</td>\n",
       "      <td>EV</td>\n",
       "      <td>4667</td>\n",
       "      <td>EWR</td>\n",
       "      <td>MSP</td>\n",
       "      <td>175.0</td>\n",
       "      <td>1008</td>\n",
       "      <td>15</td>\n",
       "      <td>40</td>\n",
       "      <td>2013-01-10 15:00:00</td>\n",
       "    </tr>\n",
       "    <tr>\n",
       "      <th>3</th>\n",
       "      <td>N10156</td>\n",
       "      <td>2004.0</td>\n",
       "      <td>Fixed wing multi engine</td>\n",
       "      <td>EMBRAER</td>\n",
       "      <td>EMB-145XR</td>\n",
       "      <td>2</td>\n",
       "      <td>55</td>\n",
       "      <td>NaN</td>\n",
       "      <td>Turbo-fan</td>\n",
       "      <td>2013</td>\n",
       "      <td>...</td>\n",
       "      <td>-12.0</td>\n",
       "      <td>EV</td>\n",
       "      <td>4334</td>\n",
       "      <td>EWR</td>\n",
       "      <td>CMH</td>\n",
       "      <td>81.0</td>\n",
       "      <td>463</td>\n",
       "      <td>6</td>\n",
       "      <td>34</td>\n",
       "      <td>2013-01-11 06:00:00</td>\n",
       "    </tr>\n",
       "    <tr>\n",
       "      <th>4</th>\n",
       "      <td>N10156</td>\n",
       "      <td>2004.0</td>\n",
       "      <td>Fixed wing multi engine</td>\n",
       "      <td>EMBRAER</td>\n",
       "      <td>EMB-145XR</td>\n",
       "      <td>2</td>\n",
       "      <td>55</td>\n",
       "      <td>NaN</td>\n",
       "      <td>Turbo-fan</td>\n",
       "      <td>2013</td>\n",
       "      <td>...</td>\n",
       "      <td>-8.0</td>\n",
       "      <td>EV</td>\n",
       "      <td>4298</td>\n",
       "      <td>EWR</td>\n",
       "      <td>MCI</td>\n",
       "      <td>171.0</td>\n",
       "      <td>1092</td>\n",
       "      <td>11</td>\n",
       "      <td>20</td>\n",
       "      <td>2013-01-11 11:00:00</td>\n",
       "    </tr>\n",
       "  </tbody>\n",
       "</table>\n",
       "<p>5 rows × 27 columns</p>\n",
       "</div>"
      ],
      "text/plain": [
       "  tailnum  year_x                     type manufacturer      model  engines  \\\n",
       "0  N10156  2004.0  Fixed wing multi engine      EMBRAER  EMB-145XR        2   \n",
       "1  N10156  2004.0  Fixed wing multi engine      EMBRAER  EMB-145XR        2   \n",
       "2  N10156  2004.0  Fixed wing multi engine      EMBRAER  EMB-145XR        2   \n",
       "3  N10156  2004.0  Fixed wing multi engine      EMBRAER  EMB-145XR        2   \n",
       "4  N10156  2004.0  Fixed wing multi engine      EMBRAER  EMB-145XR        2   \n",
       "\n",
       "   seats  speed     engine  year_y  ...  arr_delay  carrier  flight  origin  \\\n",
       "0     55    NaN  Turbo-fan    2013  ...        2.0       EV    4560     EWR   \n",
       "1     55    NaN  Turbo-fan    2013  ...       40.0       EV    4269     EWR   \n",
       "2     55    NaN  Turbo-fan    2013  ...       47.0       EV    4667     EWR   \n",
       "3     55    NaN  Turbo-fan    2013  ...      -12.0       EV    4334     EWR   \n",
       "4     55    NaN  Turbo-fan    2013  ...       -8.0       EV    4298     EWR   \n",
       "\n",
       "   dest  air_time  distance  hour minute            time_hour  \n",
       "0   PIT      60.0       319     6     30  2013-01-10 06:00:00  \n",
       "1   CHS      99.0       628    10     32  2013-01-10 10:00:00  \n",
       "2   MSP     175.0      1008    15     40  2013-01-10 15:00:00  \n",
       "3   CMH      81.0       463     6     34  2013-01-11 06:00:00  \n",
       "4   MCI     171.0      1092    11     20  2013-01-11 11:00:00  \n",
       "\n",
       "[5 rows x 27 columns]"
      ]
     },
     "execution_count": 5,
     "metadata": {},
     "output_type": "execute_result"
    }
   ],
   "source": [
    "joined_data = pd.merge(planes, flights, on='tailnum')\n",
    "joined_data.head()"
   ]
  },
  {
   "cell_type": "markdown",
   "metadata": {},
   "source": [
    "You may have tried letting Pandas infer the join column on its own, by ommitting the `on=` argument.\n",
    "Pandas will assume that any column names that exist in both datasets should be joined on."
   ]
  },
  {
   "cell_type": "code",
   "execution_count": 6,
   "metadata": {},
   "outputs": [
    {
     "data": {
      "text/html": [
       "<div>\n",
       "<style scoped>\n",
       "    .dataframe tbody tr th:only-of-type {\n",
       "        vertical-align: middle;\n",
       "    }\n",
       "\n",
       "    .dataframe tbody tr th {\n",
       "        vertical-align: top;\n",
       "    }\n",
       "\n",
       "    .dataframe thead th {\n",
       "        text-align: right;\n",
       "    }\n",
       "</style>\n",
       "<table border=\"1\" class=\"dataframe\">\n",
       "  <thead>\n",
       "    <tr style=\"text-align: right;\">\n",
       "      <th></th>\n",
       "      <th>tailnum</th>\n",
       "      <th>year</th>\n",
       "      <th>type</th>\n",
       "      <th>manufacturer</th>\n",
       "      <th>model</th>\n",
       "      <th>engines</th>\n",
       "      <th>seats</th>\n",
       "      <th>speed</th>\n",
       "      <th>engine</th>\n",
       "      <th>month</th>\n",
       "      <th>...</th>\n",
       "      <th>arr_delay</th>\n",
       "      <th>carrier</th>\n",
       "      <th>flight</th>\n",
       "      <th>origin</th>\n",
       "      <th>dest</th>\n",
       "      <th>air_time</th>\n",
       "      <th>distance</th>\n",
       "      <th>hour</th>\n",
       "      <th>minute</th>\n",
       "      <th>time_hour</th>\n",
       "    </tr>\n",
       "  </thead>\n",
       "  <tbody>\n",
       "    <tr>\n",
       "      <th>0</th>\n",
       "      <td>N150UW</td>\n",
       "      <td>2013.0</td>\n",
       "      <td>Fixed wing multi engine</td>\n",
       "      <td>AIRBUS</td>\n",
       "      <td>A321-211</td>\n",
       "      <td>2</td>\n",
       "      <td>199</td>\n",
       "      <td>NaN</td>\n",
       "      <td>Turbo-fan</td>\n",
       "      <td>10</td>\n",
       "      <td>...</td>\n",
       "      <td>4.0</td>\n",
       "      <td>US</td>\n",
       "      <td>1895</td>\n",
       "      <td>LGA</td>\n",
       "      <td>CLT</td>\n",
       "      <td>91.0</td>\n",
       "      <td>544</td>\n",
       "      <td>12</td>\n",
       "      <td>59</td>\n",
       "      <td>2013-10-07 12:00:00</td>\n",
       "    </tr>\n",
       "    <tr>\n",
       "      <th>1</th>\n",
       "      <td>N150UW</td>\n",
       "      <td>2013.0</td>\n",
       "      <td>Fixed wing multi engine</td>\n",
       "      <td>AIRBUS</td>\n",
       "      <td>A321-211</td>\n",
       "      <td>2</td>\n",
       "      <td>199</td>\n",
       "      <td>NaN</td>\n",
       "      <td>Turbo-fan</td>\n",
       "      <td>10</td>\n",
       "      <td>...</td>\n",
       "      <td>-24.0</td>\n",
       "      <td>US</td>\n",
       "      <td>1751</td>\n",
       "      <td>EWR</td>\n",
       "      <td>CLT</td>\n",
       "      <td>76.0</td>\n",
       "      <td>529</td>\n",
       "      <td>18</td>\n",
       "      <td>29</td>\n",
       "      <td>2013-10-08 18:00:00</td>\n",
       "    </tr>\n",
       "    <tr>\n",
       "      <th>2</th>\n",
       "      <td>N150UW</td>\n",
       "      <td>2013.0</td>\n",
       "      <td>Fixed wing multi engine</td>\n",
       "      <td>AIRBUS</td>\n",
       "      <td>A321-211</td>\n",
       "      <td>2</td>\n",
       "      <td>199</td>\n",
       "      <td>NaN</td>\n",
       "      <td>Turbo-fan</td>\n",
       "      <td>10</td>\n",
       "      <td>...</td>\n",
       "      <td>-18.0</td>\n",
       "      <td>US</td>\n",
       "      <td>1751</td>\n",
       "      <td>EWR</td>\n",
       "      <td>CLT</td>\n",
       "      <td>73.0</td>\n",
       "      <td>529</td>\n",
       "      <td>18</td>\n",
       "      <td>29</td>\n",
       "      <td>2013-10-09 18:00:00</td>\n",
       "    </tr>\n",
       "    <tr>\n",
       "      <th>3</th>\n",
       "      <td>N150UW</td>\n",
       "      <td>2013.0</td>\n",
       "      <td>Fixed wing multi engine</td>\n",
       "      <td>AIRBUS</td>\n",
       "      <td>A321-211</td>\n",
       "      <td>2</td>\n",
       "      <td>199</td>\n",
       "      <td>NaN</td>\n",
       "      <td>Turbo-fan</td>\n",
       "      <td>10</td>\n",
       "      <td>...</td>\n",
       "      <td>4.0</td>\n",
       "      <td>US</td>\n",
       "      <td>2085</td>\n",
       "      <td>LGA</td>\n",
       "      <td>CLT</td>\n",
       "      <td>98.0</td>\n",
       "      <td>544</td>\n",
       "      <td>6</td>\n",
       "      <td>30</td>\n",
       "      <td>2013-10-10 06:00:00</td>\n",
       "    </tr>\n",
       "    <tr>\n",
       "      <th>4</th>\n",
       "      <td>N150UW</td>\n",
       "      <td>2013.0</td>\n",
       "      <td>Fixed wing multi engine</td>\n",
       "      <td>AIRBUS</td>\n",
       "      <td>A321-211</td>\n",
       "      <td>2</td>\n",
       "      <td>199</td>\n",
       "      <td>NaN</td>\n",
       "      <td>Turbo-fan</td>\n",
       "      <td>10</td>\n",
       "      <td>...</td>\n",
       "      <td>-21.0</td>\n",
       "      <td>US</td>\n",
       "      <td>1843</td>\n",
       "      <td>EWR</td>\n",
       "      <td>CLT</td>\n",
       "      <td>78.0</td>\n",
       "      <td>529</td>\n",
       "      <td>5</td>\n",
       "      <td>0</td>\n",
       "      <td>2013-10-11 05:00:00</td>\n",
       "    </tr>\n",
       "  </tbody>\n",
       "</table>\n",
       "<p>5 rows × 26 columns</p>\n",
       "</div>"
      ],
      "text/plain": [
       "  tailnum    year                     type manufacturer     model  engines  \\\n",
       "0  N150UW  2013.0  Fixed wing multi engine       AIRBUS  A321-211        2   \n",
       "1  N150UW  2013.0  Fixed wing multi engine       AIRBUS  A321-211        2   \n",
       "2  N150UW  2013.0  Fixed wing multi engine       AIRBUS  A321-211        2   \n",
       "3  N150UW  2013.0  Fixed wing multi engine       AIRBUS  A321-211        2   \n",
       "4  N150UW  2013.0  Fixed wing multi engine       AIRBUS  A321-211        2   \n",
       "\n",
       "   seats  speed     engine  month  ...  arr_delay  carrier  flight  origin  \\\n",
       "0    199    NaN  Turbo-fan     10  ...        4.0       US    1895     LGA   \n",
       "1    199    NaN  Turbo-fan     10  ...      -24.0       US    1751     EWR   \n",
       "2    199    NaN  Turbo-fan     10  ...      -18.0       US    1751     EWR   \n",
       "3    199    NaN  Turbo-fan     10  ...        4.0       US    2085     LGA   \n",
       "4    199    NaN  Turbo-fan     10  ...      -21.0       US    1843     EWR   \n",
       "\n",
       "   dest  air_time  distance hour  minute            time_hour  \n",
       "0   CLT      91.0       544   12      59  2013-10-07 12:00:00  \n",
       "1   CLT      76.0       529   18      29  2013-10-08 18:00:00  \n",
       "2   CLT      73.0       529   18      29  2013-10-09 18:00:00  \n",
       "3   CLT      98.0       544    6      30  2013-10-10 06:00:00  \n",
       "4   CLT      78.0       529    5       0  2013-10-11 05:00:00  \n",
       "\n",
       "[5 rows x 26 columns]"
      ]
     },
     "execution_count": 6,
     "metadata": {},
     "output_type": "execute_result"
    }
   ],
   "source": [
    "pd.merge(planes, flights).head()"
   ]
  },
  {
   "cell_type": "markdown",
   "metadata": {},
   "source": [
    "However, there is also a column called `year` in both datasets, but it doesn't mean the same thing.\n",
    "So this results in a different join than what we want, and this is why it's better to always name your join columns explicitly."
   ]
  },
  {
   "cell_type": "code",
   "execution_count": 17,
   "metadata": {},
   "outputs": [
    {
     "name": "stdout",
     "output_type": "stream",
     "text": [
      "Planes ['tailnum', 'year', 'type', 'manufacturer', 'model', 'engines', 'seats', 'speed', 'engine']\n",
      "\n",
      "Flights ['year', 'month', 'day', 'dep_time', 'sched_dep_time', 'dep_delay', 'arr_time', 'sched_arr_time', 'arr_delay', 'carrier', 'flight', 'tailnum', 'origin', 'dest', 'air_time', 'distance', 'hour', 'minute', 'time_hour']\n",
      "\n",
      "Common ['tailnum', 'year']\n",
      "\n"
     ]
    }
   ],
   "source": [
    "print('Planes', list(planes.columns), end='\\n\\n')\n",
    "print('Flights', list(flights.columns), end='\\n\\n')\n",
    "# What columns are in both?\n",
    "print('Common', [col for col in planes.columns if col in flights.columns], end='\\n\\n')"
   ]
  },
  {
   "cell_type": "markdown",
   "metadata": {},
   "source": [
    "## #6\n",
    "How many rows are in the result DataFrame?\n",
    "How does this compare to how many rows were in its parent DataFrames (planes and flights)?"
   ]
  },
  {
   "cell_type": "code",
   "execution_count": 18,
   "metadata": {},
   "outputs": [
    {
     "data": {
      "text/plain": [
       "(284170, 27)"
      ]
     },
     "execution_count": 18,
     "metadata": {},
     "output_type": "execute_result"
    }
   ],
   "source": [
    "joined_data.shape"
   ]
  },
  {
   "cell_type": "code",
   "execution_count": 19,
   "metadata": {},
   "outputs": [
    {
     "data": {
      "text/plain": [
       "(3322, 9)"
      ]
     },
     "execution_count": 19,
     "metadata": {},
     "output_type": "execute_result"
    }
   ],
   "source": [
    "planes.shape"
   ]
  },
  {
   "cell_type": "code",
   "execution_count": 20,
   "metadata": {},
   "outputs": [
    {
     "data": {
      "text/plain": [
       "(336776, 19)"
      ]
     },
     "execution_count": 20,
     "metadata": {},
     "output_type": "execute_result"
    }
   ],
   "source": [
    "flights.shape"
   ]
  },
  {
   "cell_type": "markdown",
   "metadata": {},
   "source": [
    "There are 284k rows in the result, as compared to 336k and 3k rows in the inputs.\n",
    "So our result has slightly fewer rows than our larger input dataset."
   ]
  },
  {
   "cell_type": "markdown",
   "metadata": {},
   "source": [
    "## #7\n",
    "What would happen if you did a left join instead of an inner join?\n",
    "Try it, storing the result in a variable called `left_joined_data`.\n",
    "Check how many rows are in this new DataFrame -- is it different to the number of rows in `joined_data` (from #5)?"
   ]
  },
  {
   "cell_type": "markdown",
   "metadata": {},
   "source": [
    "Your results will depend on the order of your join - if you do a left join, which dataset is on the left will matter.\n",
    "We'll look at both possibilites (left joining planes to flights, and left joining flights to planes)."
   ]
  },
  {
   "cell_type": "code",
   "execution_count": 22,
   "metadata": {},
   "outputs": [
    {
     "data": {
      "text/plain": [
       "(284170, 27)"
      ]
     },
     "execution_count": 22,
     "metadata": {},
     "output_type": "execute_result"
    }
   ],
   "source": [
    "left_joined_data = pd.merge(planes, flights, on='tailnum', how='left')\n",
    "left_joined_data.shape"
   ]
  },
  {
   "cell_type": "markdown",
   "metadata": {},
   "source": [
    "In the case where we left join planes to flights, we get the exact same number of rows as before.\n",
    "What does this mean?\n",
    "It means that every *plane* was also in the flights table -- so left joining had no effect; we weren't dropping any unmatched records from the planes table anyway."
   ]
  },
  {
   "cell_type": "code",
   "execution_count": 23,
   "metadata": {},
   "outputs": [
    {
     "data": {
      "text/plain": [
       "(336776, 27)"
      ]
     },
     "execution_count": 23,
     "metadata": {},
     "output_type": "execute_result"
    }
   ],
   "source": [
    "left_joined_data = pd.merge(flights, planes, on='tailnum', how='left')\n",
    "left_joined_data.shape"
   ]
  },
  {
   "cell_type": "markdown",
   "metadata": {},
   "source": [
    "In the case where we left join flights to planes, we suddenly get many more records.\n",
    "This indicates than there are records in the flights table that don't match back to the planes table, and in an inner join we were dropping them.\n"
   ]
  },
  {
   "cell_type": "markdown",
   "metadata": {},
   "source": [
    "## #8\n",
    "Using the original joined data, calculate what percentage of flights were completed on Boeing planes."
   ]
  },
  {
   "cell_type": "code",
   "execution_count": 24,
   "metadata": {},
   "outputs": [
    {
     "data": {
      "text/plain": [
       "284170"
      ]
     },
     "execution_count": 24,
     "metadata": {},
     "output_type": "execute_result"
    }
   ],
   "source": [
    "# How many total flights?\n",
    "joined_data.shape[0]"
   ]
  },
  {
   "cell_type": "code",
   "execution_count": 25,
   "metadata": {},
   "outputs": [
    {
     "data": {
      "text/plain": [
       "82912"
      ]
     },
     "execution_count": 25,
     "metadata": {},
     "output_type": "execute_result"
    }
   ],
   "source": [
    "# How many completed on Boeing?\n",
    "joined_data[joined_data['manufacturer'] == 'BOEING'].shape[0]"
   ]
  },
  {
   "cell_type": "code",
   "execution_count": 26,
   "metadata": {},
   "outputs": [
    {
     "data": {
      "text/plain": [
       "0.2917690115071964"
      ]
     },
     "execution_count": 26,
     "metadata": {},
     "output_type": "execute_result"
    }
   ],
   "source": [
    "82912 / 284170"
   ]
  },
  {
   "cell_type": "markdown",
   "metadata": {},
   "source": [
    "Or, in a single line:"
   ]
  },
  {
   "cell_type": "code",
   "execution_count": 27,
   "metadata": {},
   "outputs": [
    {
     "data": {
      "text/plain": [
       "0.2917690115071964"
      ]
     },
     "execution_count": 27,
     "metadata": {},
     "output_type": "execute_result"
    }
   ],
   "source": [
    "joined_data[joined_data['manufacturer'] == 'BOEING'].shape[0] / joined_data.shape[0]"
   ]
  }
 ],
 "metadata": {
  "kernelspec": {
   "display_name": "Python 3",
   "language": "python",
   "name": "python3"
  },
  "language_info": {
   "codemirror_mode": {
    "name": "ipython",
    "version": 3
   },
   "file_extension": ".py",
   "mimetype": "text/x-python",
   "name": "python",
   "nbconvert_exporter": "python",
   "pygments_lexer": "ipython3",
   "version": "3.7.3"
  }
 },
 "nbformat": 4,
 "nbformat_minor": 4
}
