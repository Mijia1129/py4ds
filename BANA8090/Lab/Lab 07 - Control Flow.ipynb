{
 "cells": [
  {
   "cell_type": "markdown",
   "metadata": {},
   "source": [
    "# Lab 07: Control Flow"
   ]
  },
  {
   "cell_type": "markdown",
   "metadata": {},
   "source": [
    "## #1\n",
    "The Python built-in function `input` prompts the user to enter text.\n",
    "Use the `input` function to ask the user for his or her age (you may need to google it or look at docs for examples).\n",
    "\n",
    "- If the user's age is less than 13, print a message telling them that they are a child.\n",
    "- If the user's age is between 13 and 19, print a message telling them that they are a teenager.\n",
    "- If the user is 20 or over, tell them they are old.\n",
    "\n",
    "*Hint: you may want to use the `int()` function to coerce strings to integers.*"
   ]
  },
  {
   "cell_type": "code",
   "execution_count": 5,
   "metadata": {},
   "outputs": [
    {
     "name": "stdin",
     "output_type": "stream",
     "text": [
      "How old are you? 27\n"
     ]
    }
   ],
   "source": [
    "user_age = input('How old are you?')\n",
    "# Convert the age to an integer\n",
    "user_age = int(user_age)"
   ]
  },
  {
   "cell_type": "code",
   "execution_count": 6,
   "metadata": {},
   "outputs": [
    {
     "name": "stdout",
     "output_type": "stream",
     "text": [
      "Wow, you're old!\n"
     ]
    }
   ],
   "source": [
    "if user_age < 13:\n",
    "    print(\"You're just a child!\")\n",
    "elif user_age <= 19:\n",
    "    print(\"Looks like you're a teenager.\")\n",
    "else:\n",
    "    print(\"Wow, you're old!\")"
   ]
  },
  {
   "cell_type": "markdown",
   "metadata": {},
   "source": [
    "## #2\n",
    "Using the planes DataFrame, loop through the values in the engine column and count how many contain a dash (-).\n",
    "You may want to use the `in` operator to check if one string is inside another."
   ]
  },
  {
   "cell_type": "code",
   "execution_count": 8,
   "metadata": {},
   "outputs": [],
   "source": [
    "import pandas as pd\n",
    "planes = pd.read_csv('../data/planes.csv')"
   ]
  },
  {
   "cell_type": "markdown",
   "metadata": {},
   "source": [
    "There are two approaches I can imagine:\n",
    "- Loop through the rows of the dataframe and check the 'engine' column of each\n",
    "- Look through the engine column itself\n",
    "\n",
    "We'll try both."
   ]
  },
  {
   "cell_type": "code",
   "execution_count": 12,
   "metadata": {},
   "outputs": [
    {
     "data": {
      "text/plain": [
       "3292"
      ]
     },
     "execution_count": 12,
     "metadata": {},
     "output_type": "execute_result"
    }
   ],
   "source": [
    "# Create a counter that we'll increment when we see an engine with a dash.\n",
    "counter = 0\n",
    "\n",
    "# Iterating through rows of the DataFrame\n",
    "for index, row in planes.iterrows():\n",
    "    engine = row['engine']\n",
    "    # Check if there is a dash in the engine value.\n",
    "    if '-' in engine:\n",
    "        # Increment the counter if so\n",
    "        counter = counter + 1\n",
    "\n",
    "counter"
   ]
  },
  {
   "cell_type": "code",
   "execution_count": 11,
   "metadata": {},
   "outputs": [
    {
     "data": {
      "text/plain": [
       "3292"
      ]
     },
     "execution_count": 11,
     "metadata": {},
     "output_type": "execute_result"
    }
   ],
   "source": [
    "# Create a counter that we'll increment when we see an engine with a dash.\n",
    "counter = 0\n",
    "\n",
    "# Iterating through values in the engine column\n",
    "for engine in planes['engine']:\n",
    "    # Check if there is a dash in the engine value.\n",
    "    if '-' in engine:\n",
    "        # Increment the counter if so\n",
    "        counter = counter + 1\n",
    "        \n",
    "counter"
   ]
  },
  {
   "cell_type": "markdown",
   "metadata": {},
   "source": [
    "## #3\n",
    "Loop through every row in the planes DataFrame (try `df.iterrows()`) and sum up the number of engines *until* you encounter a plane made by Boeing."
   ]
  },
  {
   "cell_type": "markdown",
   "metadata": {},
   "source": [
    "The \"until\" phrasing should make you think of looping and using a `break` statement to end the loop."
   ]
  },
  {
   "cell_type": "code",
   "execution_count": 13,
   "metadata": {},
   "outputs": [
    {
     "data": {
      "text/plain": [
       "68"
      ]
     },
     "execution_count": 13,
     "metadata": {},
     "output_type": "execute_result"
    }
   ],
   "source": [
    "# Another counter variable.\n",
    "num_engines = 0\n",
    "\n",
    "for index, row in planes.iterrows():\n",
    "    # First, check if we've found a Boeing plane.\n",
    "    if row['manufacturer'] == 'BOEING':\n",
    "        # Exit the loop if so.\n",
    "        break\n",
    "    # Add the number of engines in the current row to our running counter.\n",
    "    num_engines = num_engines + row['engines']\n",
    "\n",
    "num_engines"
   ]
  },
  {
   "cell_type": "markdown",
   "metadata": {},
   "source": [
    "## #4\n",
    "The fizzbuzz problem (a famous coding interview question):\n",
    "- Loop through the integers from 1 to 100\n",
    "- For any number divisible by 3, print 'fizz'\n",
    "- For any number divisible by 5, print 'buzz'\n",
    "- For any number divisible by both 3 and 5, print 'fizzbuzz'\n",
    "- For all other numbers, just print the number"
   ]
  },
  {
   "cell_type": "markdown",
   "metadata": {},
   "source": [
    "Notice that the order of our if/elif/else statements matters -- if we check for divisibility by 3 before checking for divisibility by 15, we'll never print 'fizzbuzz', since all number divisible by 15 are also divisible by 3 (and by 5)."
   ]
  },
  {
   "cell_type": "code",
   "execution_count": 16,
   "metadata": {},
   "outputs": [
    {
     "name": "stdout",
     "output_type": "stream",
     "text": [
      "1\n",
      "2\n",
      "fizz\n",
      "4\n",
      "buzz\n",
      "fizz\n",
      "7\n",
      "8\n",
      "fizz\n",
      "buzz\n",
      "11\n",
      "fizz\n",
      "13\n",
      "14\n",
      "fizzbuzz\n",
      "16\n",
      "17\n",
      "fizz\n",
      "19\n",
      "buzz\n",
      "fizz\n",
      "22\n",
      "23\n",
      "fizz\n",
      "buzz\n",
      "26\n",
      "fizz\n",
      "28\n",
      "29\n",
      "fizzbuzz\n",
      "31\n",
      "32\n",
      "fizz\n",
      "34\n",
      "buzz\n",
      "fizz\n",
      "37\n",
      "38\n",
      "fizz\n",
      "buzz\n",
      "41\n",
      "fizz\n",
      "43\n",
      "44\n",
      "fizzbuzz\n",
      "46\n",
      "47\n",
      "fizz\n",
      "49\n",
      "buzz\n",
      "fizz\n",
      "52\n",
      "53\n",
      "fizz\n",
      "buzz\n",
      "56\n",
      "fizz\n",
      "58\n",
      "59\n",
      "fizzbuzz\n",
      "61\n",
      "62\n",
      "fizz\n",
      "64\n",
      "buzz\n",
      "fizz\n",
      "67\n",
      "68\n",
      "fizz\n",
      "buzz\n",
      "71\n",
      "fizz\n",
      "73\n",
      "74\n",
      "fizzbuzz\n",
      "76\n",
      "77\n",
      "fizz\n",
      "79\n",
      "buzz\n",
      "fizz\n",
      "82\n",
      "83\n",
      "fizz\n",
      "buzz\n",
      "86\n",
      "fizz\n",
      "88\n",
      "89\n",
      "fizzbuzz\n",
      "91\n",
      "92\n",
      "fizz\n",
      "94\n",
      "buzz\n",
      "fizz\n",
      "97\n",
      "98\n",
      "fizz\n",
      "buzz\n"
     ]
    }
   ],
   "source": [
    "for i in range(1, 101):\n",
    "    # Divisible by both 3 and 5\n",
    "    if (i % 15) == 0:\n",
    "        print('fizzbuzz')\n",
    "    # Divisible by 3 only\n",
    "    elif (i % 3) == 0:\n",
    "        print('fizz')\n",
    "    # Divisible by 5 only\n",
    "    elif (i % 5) == 0:\n",
    "        print('buzz')\n",
    "    # Not divisibly by 3 or 5\n",
    "    else:\n",
    "        print(i)"
   ]
  },
  {
   "cell_type": "markdown",
   "metadata": {},
   "source": [
    "## #5\n",
    "Fill in the blanks in this list comprehension to produce the output [1, 3, 5]:\n",
    "```python\n",
    "[x * _ + _ for x in range(3)]\n",
    "```"
   ]
  },
  {
   "cell_type": "code",
   "execution_count": 17,
   "metadata": {},
   "outputs": [
    {
     "data": {
      "text/plain": [
       "[1, 3, 5]"
      ]
     },
     "execution_count": 17,
     "metadata": {},
     "output_type": "execute_result"
    }
   ],
   "source": [
    "[x * 2 + 1 for x in range(3)]"
   ]
  },
  {
   "cell_type": "markdown",
   "metadata": {},
   "source": [
    "## #6\n",
    "Given a list `l = [4, 5, 2, 0, 2]`, write a list comprehension that produces `[12, 15, 6, 0, 6]`:\n",
    "```python\n",
    "[ _____ for _ in l]\n",
    "```"
   ]
  },
  {
   "cell_type": "code",
   "execution_count": 19,
   "metadata": {},
   "outputs": [
    {
     "data": {
      "text/plain": [
       "[12, 15, 6, 0, 6]"
      ]
     },
     "execution_count": 19,
     "metadata": {},
     "output_type": "execute_result"
    }
   ],
   "source": [
    "l = [4, 5, 2, 0, 2]\n",
    "[x * 3 for x in l]"
   ]
  },
  {
   "cell_type": "markdown",
   "metadata": {},
   "source": [
    "## #7\n",
    "Write a list comprehension that returns a list of the columns of `planes` in all caps. *Hint: use `planes.columns` in the comprehension.*"
   ]
  },
  {
   "cell_type": "code",
   "execution_count": 20,
   "metadata": {},
   "outputs": [
    {
     "data": {
      "text/plain": [
       "['TAILNUM',\n",
       " 'YEAR',\n",
       " 'TYPE',\n",
       " 'MANUFACTURER',\n",
       " 'MODEL',\n",
       " 'ENGINES',\n",
       " 'SEATS',\n",
       " 'SPEED',\n",
       " 'ENGINE']"
      ]
     },
     "execution_count": 20,
     "metadata": {},
     "output_type": "execute_result"
    }
   ],
   "source": [
    "[col.upper() for col in planes.columns]"
   ]
  }
 ],
 "metadata": {
  "kernelspec": {
   "display_name": "adhoc",
   "language": "python",
   "name": "adhoc"
  },
  "language_info": {
   "codemirror_mode": {
    "name": "ipython",
    "version": 3
   },
   "file_extension": ".py",
   "mimetype": "text/x-python",
   "name": "python",
   "nbconvert_exporter": "python",
   "pygments_lexer": "ipython3",
   "version": "3.7.4"
  }
 },
 "nbformat": 4,
 "nbformat_minor": 4
}
